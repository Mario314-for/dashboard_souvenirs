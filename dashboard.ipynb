{
  "cells": [
    {
      "cell_type": "markdown",
      "metadata": {},
      "source": [
        "# Dashboard Souvenirs\n",
        "Este notebook carga el dataset y genera las gráficas con Matplotlib."
      ]
    },
    {
      "cell_type": "code",
      "metadata": {},
      "execution_count": null,
      "outputs": [],
      "source": [
        "import pandas as pd\nimport matplotlib.pyplot as plt\n",
        "df = pd.read_csv('datos_souvenirs.csv', parse_dates=['fecha'])\n",
        "df.head()"
      ]
    },
    {
      "cell_type": "code",
      "metadata": {},
      "execution_count": null,
      "outputs": [],
      "source": [
        "# Serie de tiempo por categoría\n",
        "ts = df.groupby(['fecha', 'categoria'])['ingreso'].sum().reset_index()\n",
        "pivot_ts = ts.pivot(index='fecha', columns='categoria', values='ingreso').fillna(0)\n",
        "pivot_ts.plot(); plt.show()"
      ]
    }
  ],
  "metadata": {
    "kernelspec": {
      "display_name": "Python 3",
      "language": "python",
      "name": "python3"
    }
  },
  "nbformat": 4,
  "nbformat_minor": 2
}